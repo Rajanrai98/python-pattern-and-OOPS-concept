{
 "cells": [
  {
   "cell_type": "code",
   "execution_count": 1,
   "id": "5f629659",
   "metadata": {},
   "outputs": [],
   "source": [
    "## OOPS CONCEPT\n",
    "## python is the object oriented programming language\n",
    "## classes and object are the key features of OOPS\n",
    "# class is the main building block and acts as template for the object\n",
    "# object is the colection of the data and function and are also called as instances of class or class_variable."
   ]
  },
  {
   "cell_type": "code",
   "execution_count": 5,
   "id": "719d3656",
   "metadata": {},
   "outputs": [
    {
     "name": "stdout",
     "output_type": "stream",
     "text": [
      "['blow_fish', 'clown_fish', 'cat_fish']\n"
     ]
    }
   ],
   "source": [
    "fish_tuple = (\"blow_fish\",\"clown_fish\",\"cat_fish\",\"octopus\")\n",
    "\n",
    "fish_list = []\n",
    "for x in fish_tuple:\n",
    "    if x != \"octopus\":\n",
    "        fish_list.append(x)\n",
    "print(fish_list)        "
   ]
  },
  {
   "cell_type": "code",
   "execution_count": 7,
   "id": "ab59922f",
   "metadata": {},
   "outputs": [
    {
     "name": "stdout",
     "output_type": "stream",
     "text": [
      "cheeze_burger\n"
     ]
    }
   ],
   "source": [
    "tuple1 = (\"chicken_burger\",\"veg_burger\",\"mexican_burger\",\"cheeze_burger\")\n",
    "\n",
    "list1 = []\n",
    "\n",
    "for x in tuple1:\n",
    "    if x != \"mexican_burger\":\n",
    "        list1.append(x)\n",
    "print(x)        "
   ]
  },
  {
   "cell_type": "code",
   "execution_count": 9,
   "id": "28f4309e",
   "metadata": {},
   "outputs": [
    {
     "name": "stdout",
     "output_type": "stream",
     "text": [
      "chicken_burger\n",
      "veg_burger\n",
      "mexican_burger\n",
      "cheeze_burger\n"
     ]
    }
   ],
   "source": [
    "tuple1 = (\"chicken_burger\",\"veg_burger\",\"mexican_burger\",\"cheeze_burger\")\n",
    "\n",
    "for x in tuple1:\n",
    "    print(x)"
   ]
  },
  {
   "cell_type": "code",
   "execution_count": 14,
   "id": "f531232f",
   "metadata": {},
   "outputs": [
    {
     "name": "stdout",
     "output_type": "stream",
     "text": [
      "['chicken_burger', 'veg_burger', 'mexican_burger', 'cheeze_burger', 'aloo_tikki_burger']\n"
     ]
    }
   ],
   "source": [
    "tuple1 = (\"chicken_burger\",\"veg_burger\",\"mexican_burger\",\"cheeze_burger\")\n",
    "\n",
    "list_1 = list(tuple1)\n",
    "\n",
    "list_1.append(\"aloo_tikki_burger\")\n",
    "\n",
    "print(list_1)"
   ]
  },
  {
   "cell_type": "code",
   "execution_count": 15,
   "id": "88fa43f8",
   "metadata": {},
   "outputs": [
    {
     "name": "stdout",
     "output_type": "stream",
     "text": [
      "('chicken_burger', 'veg_burger', 'mexican_burger', 'cheeze_burger', 'aloo_tikki_burger')\n"
     ]
    }
   ],
   "source": [
    "tuple_2 = tuple(list_1)\n",
    "print(tuple_2)"
   ]
  },
  {
   "cell_type": "code",
   "execution_count": 16,
   "id": "9a54eb23",
   "metadata": {},
   "outputs": [
    {
     "name": "stdout",
     "output_type": "stream",
     "text": [
      "30\n"
     ]
    }
   ],
   "source": [
    "x = lambda x,y:x+y\n",
    "print(x(10,20))"
   ]
  },
  {
   "cell_type": "code",
   "execution_count": 17,
   "id": "cfcee503",
   "metadata": {},
   "outputs": [
    {
     "name": "stdout",
     "output_type": "stream",
     "text": [
      "* * * * \n",
      "* * * * \n",
      "* * * * \n",
      "* * * * \n"
     ]
    }
   ],
   "source": [
    "for i in range(4):\n",
    "    for j in range(4):\n",
    "        print(\"*\",end = \" \")\n",
    "    print()"
   ]
  },
  {
   "cell_type": "code",
   "execution_count": 18,
   "id": "4ca1ab97",
   "metadata": {},
   "outputs": [
    {
     "name": "stdout",
     "output_type": "stream",
     "text": [
      "* * * * * \n",
      "* * * * * \n",
      "* * * * * \n",
      "* * * * * \n",
      "* * * * * \n"
     ]
    }
   ],
   "source": [
    "for i in range(5):\n",
    "    for j in range(5):\n",
    "        print(\"*\",end = \" \")\n",
    "    print()"
   ]
  },
  {
   "cell_type": "code",
   "execution_count": 21,
   "id": "be292524",
   "metadata": {},
   "outputs": [
    {
     "name": "stdout",
     "output_type": "stream",
     "text": [
      "* * * * * \n",
      "*       * \n",
      "*       * \n",
      "*       * \n",
      "* * * * * \n"
     ]
    }
   ],
   "source": [
    "for i in range(5):\n",
    "    for j in range(5):\n",
    "        if (i==0 or i==4 or j ==0 or j ==4):\n",
    "            print(\"*\", end = \" \")\n",
    "        else:\n",
    "            print(\" \" , end = \" \")\n",
    "    print()       "
   ]
  },
  {
   "cell_type": "code",
   "execution_count": 22,
   "id": "f201c327",
   "metadata": {},
   "outputs": [
    {
     "name": "stdout",
     "output_type": "stream",
     "text": [
      "* * * * * \n",
      "* * * * \n",
      "* * * \n",
      "* * \n",
      "* \n"
     ]
    }
   ],
   "source": [
    "for i in range(5):\n",
    "    for j in range(5-i):\n",
    "        print(\"*\" , end = \" \")\n",
    "    print()   \n"
   ]
  },
  {
   "cell_type": "code",
   "execution_count": 24,
   "id": "54bb7c1f",
   "metadata": {},
   "outputs": [
    {
     "name": "stdout",
     "output_type": "stream",
     "text": [
      "* \n",
      "* * \n",
      "* * * \n",
      "* * * * \n",
      "* * * * * \n"
     ]
    }
   ],
   "source": [
    "for i in range(5):\n",
    "    for j in range(1+i):\n",
    "        print(\"*\" , end = \" \")\n",
    "    print()    "
   ]
  },
  {
   "cell_type": "code",
   "execution_count": 30,
   "id": "5bfcb578",
   "metadata": {},
   "outputs": [
    {
     "name": "stdout",
     "output_type": "stream",
     "text": [
      "* * * * * * \n",
      "*       * \n",
      "*     * \n",
      "*   * \n",
      "* * \n",
      "* \n"
     ]
    }
   ],
   "source": [
    "for i in range(6):\n",
    "    for j in range(6-i):\n",
    "        if (i==0 or i ==5 or j ==0 or j==6-i-1):\n",
    "            print(\"*\" , end = \" \")\n",
    "        else:\n",
    "            print(\" \" , end = \" \")\n",
    "    print()       "
   ]
  },
  {
   "cell_type": "code",
   "execution_count": 32,
   "id": "6baa53d7",
   "metadata": {},
   "outputs": [
    {
     "name": "stdout",
     "output_type": "stream",
     "text": [
      "    * \n",
      "   * * \n",
      "  * * * \n",
      " * * * * \n",
      "* * * * * \n"
     ]
    }
   ],
   "source": [
    "for i in range(5):\n",
    "    for j in range(5-i-1):\n",
    "        print(\" \" , end = \"\")\n",
    "    for k in range(i+1):\n",
    "        print(\"*\" , end = \" \")\n",
    "    print()    "
   ]
  },
  {
   "cell_type": "code",
   "execution_count": 33,
   "id": "aa77755f",
   "metadata": {},
   "outputs": [
    {
     "name": "stdout",
     "output_type": "stream",
     "text": [
      "    * \n",
      "   * * \n",
      "  * * * \n",
      " * * * * \n",
      "* * * * * \n"
     ]
    }
   ],
   "source": [
    "for i in range(5):\n",
    "    for j in range(5-i-1):\n",
    "        print(\" \" , end = \"\")\n",
    "    for k in range(i+1):\n",
    "        print(\"*\" , end = \" \")\n",
    "    print()    "
   ]
  },
  {
   "cell_type": "code",
   "execution_count": 37,
   "id": "f19c2c8d",
   "metadata": {},
   "outputs": [
    {
     "name": "stdout",
     "output_type": "stream",
     "text": [
      "    * \n",
      "   * * \n",
      "  * * * \n",
      " * * * * \n",
      "* * * * * \n",
      "* * * * * \n",
      " * * * * \n",
      "  * * * \n",
      "   * * \n",
      "    * \n"
     ]
    }
   ],
   "source": [
    "for i in range(5):\n",
    "    for j in range(5-i-1):\n",
    "        print(\" \" , end = \"\")\n",
    "        \n",
    "    for k in range(i+1):\n",
    "        print(\"*\" , end = \" \")\n",
    "    print()    \n",
    "        \n",
    "\n",
    "for i in range(5):\n",
    "    for j in range(i):\n",
    "        print(\" \" , end = \"\")\n",
    "    for k in range(5-i):\n",
    "        print(\"*\" , end = \" \")\n",
    "    print()    "
   ]
  },
  {
   "cell_type": "code",
   "execution_count": 45,
   "id": "1fab3c3b",
   "metadata": {},
   "outputs": [
    {
     "name": "stdout",
     "output_type": "stream",
     "text": [
      "    * \n",
      "   * * \n",
      "  * * * \n",
      " * * * * \n",
      "* * * * * \n",
      "* * * * * \n",
      " * * * * \n",
      "  * * * \n",
      "   * * \n",
      "    * \n"
     ]
    }
   ],
   "source": [
    " for i in range(5):\n",
    "        for j in range(5-i-1):\n",
    "            print(\" \", end = \"\")\n",
    "            \n",
    "        for k in range(i+1):\n",
    "            print(\"*\" , end = \" \")\n",
    "        print() \n",
    "        \n",
    "for i in range(5):\n",
    "    for j in range(i):\n",
    "        print(\" \" , end = \"\")\n",
    "        \n",
    "    for k in range(5-i):\n",
    "        print(\"*\" , end = \" \" )\n",
    "        \n",
    "    print()   "
   ]
  },
  {
   "cell_type": "code",
   "execution_count": 46,
   "id": "1b230731",
   "metadata": {},
   "outputs": [
    {
     "name": "stdout",
     "output_type": "stream",
     "text": [
      "10\n",
      "20\n",
      "30\n"
     ]
    }
   ],
   "source": [
    "class sample:\n",
    "    x = 10\n",
    "    y = 20\n",
    "    \n",
    "s = sample()\n",
    "print(s.x)\n",
    "print(s.y)\n",
    "print(s.x+s.y)"
   ]
  },
  {
   "cell_type": "code",
   "execution_count": 47,
   "id": "e48a26c1",
   "metadata": {},
   "outputs": [
    {
     "name": "stdout",
     "output_type": "stream",
     "text": [
      "60\n",
      "50\n",
      "15\n",
      "45000\n"
     ]
    }
   ],
   "source": [
    "class sample:\n",
    "    x = 60\n",
    "    y = 50\n",
    "    z = 15\n",
    "    \n",
    "s = sample()\n",
    "print(s.x)\n",
    "print(s.y)\n",
    "print(s.z)\n",
    "print(s.x*s.y*s.z)"
   ]
  },
  {
   "cell_type": "markdown",
   "id": "5286e358",
   "metadata": {},
   "source": [
    "#### Once a class is created its members can be accessed by the object or instance of that class.\n",
    "\n",
    "#### the process of creating object is called as class Instantiation\n",
    "\n",
    "#### Syntax:\n",
    "###object_name = class_name()"
   ]
  },
  {
   "cell_type": "code",
   "execution_count": 51,
   "id": "157075b8",
   "metadata": {},
   "outputs": [
    {
     "name": "stdout",
     "output_type": "stream",
     "text": [
      "Total_marks: 256\n",
      "avg: 85.33333333333333\n"
     ]
    }
   ],
   "source": [
    "class student:\n",
    "    mark1,mark2,mark3= 77,89,90\n",
    "    def process(self):\n",
    "        sum1 = self.mark1+self.mark2+self.mark3\n",
    "        avg = sum1/3\n",
    "        print(\"Total_marks:\" , sum1)\n",
    "        print(\"avg:\",avg)\n",
    "        \n",
    "s = student()\n",
    "s.process()"
   ]
  },
  {
   "cell_type": "code",
   "execution_count": 54,
   "id": "ea3a9405",
   "metadata": {},
   "outputs": [
    {
     "name": "stdout",
     "output_type": "stream",
     "text": [
      "enter the english marks 67\n",
      "enter the hindi marks57\n",
      "enter the maths marks98\n",
      "enter the science name68\n",
      "380\n",
      "67\n"
     ]
    }
   ],
   "source": [
    "class student:\n",
    "    english = int(input(\"enter the english marks\"))\n",
    "    hindi = int(input(\"enter the hindi marks\"))\n",
    "    maths = int(input(\"enter the maths marks\"))\n",
    "    science = int(input(\"enter the science name\"))\n",
    "    \n",
    "    \n",
    "    def p(self,evs):\n",
    "        total = self.english+self.hindi+self.maths+self.science+evs\n",
    "        avg = total/4\n",
    "        print(total)\n",
    "        \n",
    "        \n",
    "s = student()\n",
    "evs = 90\n",
    "s.p(evs)\n",
    "print(s.english)"
   ]
  },
  {
   "cell_type": "code",
   "execution_count": 56,
   "id": "be575ac5",
   "metadata": {},
   "outputs": [
    {
     "name": "stdout",
     "output_type": "stream",
     "text": [
      "this function is in parent class\n",
      "This function is in child class\n"
     ]
    }
   ],
   "source": [
    "class parents:\n",
    "    def func1(self):\n",
    "        print(\"this function is in parent class\")\n",
    "        \n",
    "# derived class\n",
    "\n",
    "class child(parents):\n",
    "    def func2(self):\n",
    "        print(\"This function is in child class\")\n",
    "        \n",
    "        \n",
    "## driver code\n",
    "\n",
    "\n",
    "object = child()\n",
    "object.func1()\n",
    "object.func2()"
   ]
  },
  {
   "cell_type": "code",
   "execution_count": null,
   "id": "d60f2089",
   "metadata": {},
   "outputs": [],
   "source": []
  }
 ],
 "metadata": {
  "kernelspec": {
   "display_name": "Python 3 (ipykernel)",
   "language": "python",
   "name": "python3"
  },
  "language_info": {
   "codemirror_mode": {
    "name": "ipython",
    "version": 3
   },
   "file_extension": ".py",
   "mimetype": "text/x-python",
   "name": "python",
   "nbconvert_exporter": "python",
   "pygments_lexer": "ipython3",
   "version": "3.10.9"
  }
 },
 "nbformat": 4,
 "nbformat_minor": 5
}
